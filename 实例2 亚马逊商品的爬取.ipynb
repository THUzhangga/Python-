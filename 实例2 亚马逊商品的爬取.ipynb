{
 "cells": [
  {
   "cell_type": "code",
   "execution_count": 13,
   "metadata": {
    "collapsed": false
   },
   "outputs": [
    {
     "name": "stdout",
     "output_type": "stream",
     "text": [
      "503\n",
      "{'Accept-Encoding': 'gzip, deflate', 'User-Agent': 'python-requests/2.10.0', 'Accept': '*/*', 'Connection': 'keep-alive'}\n"
     ]
    },
    {
     "data": {
      "text/plain": [
       "200"
      ]
     },
     "execution_count": 13,
     "metadata": {},
     "output_type": "execute_result"
    }
   ],
   "source": [
    "import requests\n",
    "url = 'https://www.amazon.cn/%E5%9B%BE%E4%B9%A6/dp/B01M8L5Z3Y'\n",
    "r = requests.get(url)\n",
    "r.encoding = r.apparent_encoding\n",
    "print(r.status_code)\n",
    "#print(r.text)\n",
    "print(r.request.headers)\n",
    "kv = {'user-agent': 'Mozilla/5.0'}\n",
    "r = requests.get(url, headers = kv)\n",
    "r.status_code"
   ]
  },
  {
   "cell_type": "code",
   "execution_count": 15,
   "metadata": {
    "collapsed": false
   },
   "outputs": [
    {
     "name": "stdout",
     "output_type": "stream",
     "text": [
      "\n",
      "\n",
      "  \n",
      "  \n",
      "\n",
      "\n",
      "\n",
      "\n",
      "\n",
      "\n",
      "\n",
      "\n",
      "\n",
      "\n",
      "\n",
      "\n",
      "\n",
      "\n",
      "\n",
      "\n",
      "\n",
      "\n",
      "\n",
      "\n",
      "\n",
      "\n",
      "\n",
      "\n",
      "\n",
      "\n",
      "\n",
      "\n",
      "\n",
      "\n",
      "\n",
      "\n",
      "\n",
      "\n",
      "    \n",
      "\n",
      "\n",
      "\n",
      "\n",
      "\n",
      "\n",
      "\n",
      "\n",
      "\n",
      "\n",
      "\n",
      "\n",
      "\n",
      "\n",
      "\n",
      "    \n",
      "\n",
      "\n",
      "\n",
      "\n",
      "\n",
      "\n",
      "\n",
      "\n",
      "\n",
      "\n",
      "\n",
      "\n",
      "\n",
      "\n",
      "\n",
      "    \n",
      "\n",
      "\n",
      "\n",
      "\n",
      "\n",
      "\n",
      "\n",
      "\n",
      "\n",
      "\n",
      "\n",
      "\n",
      "\n",
      "\n",
      "\n",
      "\n",
      "\n",
      "    <!doctype html><html class=\"a-no-js\" data-19ax5a9jf=\"dingo\">\n",
      "    <head>\n",
      "<script type=\"text/javascript\">var ue_t0=ue_t0||+new Date();</script>\n",
      "<script type=\"text/javascript\">\n",
      "var ue_hob=+new Date();\n",
      "var ue_id='NHT8J5AVV1MBTZDYAMK5',\n",
      "ue_csm = window,\n",
      "ue_err_chan = 'jserr-rw',\n",
      "ue = {};\n",
      "(function(d){var e=d.ue=d.ue||{},f=Date.now||function(){return+new Date};e.d=function(b){return f()-(b?0:d.ue_t0)};e.stub=function(b,a){if(!b[a]){var c=[];b[a]=function(){c.push([c.slice.call(arguments),e.d(),d.ue_id])};b[a].replay=function(b){for(var a;a=c.shift();)b(a[0],a[1],a[2])};b[a].isStub=1}};e.exec=function(b,a){return function(){if(1==window.ueinit)try{return b.apply(this,arguments)}catch(c){ueLogError(c,{attribution:a||\"undefined\",logLevel:\"WARN\"})}}}})(ue_csm);\n",
      "\n",
      "ue.stub(ue,\"log\");ue.stub(ue,\"onunload\");ue.stub(ue,\"onflush\");\n",
      "\n",
      "(function(c,d){function e(f,b){if(!(a.ec>a.mxe)&&f){a.ec++;a.te\n"
     ]
    }
   ],
   "source": [
    "import requests\n",
    "url = 'https://www.amazon.cn/%E5%9B%BE%E4%B9%A6/dp/B01M8L5Z3Y'\n",
    "try:\n",
    "    kv = {'user-agent': 'Mozilla/5.0'}\n",
    "    r = requests.get(url, headers = kv)\n",
    "    r.raise_for_status()\n",
    "    r.encoding = r.apparent_encoding\n",
    "    print(r.text[1:1000])\n",
    "except:\n",
    "    print('获取失败')"
   ]
  },
  {
   "cell_type": "code",
   "execution_count": null,
   "metadata": {
    "collapsed": true
   },
   "outputs": [],
   "source": []
  }
 ],
 "metadata": {
  "kernelspec": {
   "display_name": "Python [Root]",
   "language": "python",
   "name": "Python [Root]"
  },
  "language_info": {
   "codemirror_mode": {
    "name": "ipython",
    "version": 3
   },
   "file_extension": ".py",
   "mimetype": "text/x-python",
   "name": "python",
   "nbconvert_exporter": "python",
   "pygments_lexer": "ipython3",
   "version": "3.5.2"
  }
 },
 "nbformat": 4,
 "nbformat_minor": 0
}
