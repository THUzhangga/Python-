{
 "cells": [
  {
   "cell_type": "code",
   "execution_count": 10,
   "metadata": {
    "collapsed": false
   },
   "outputs": [],
   "source": [
    "#图片链接可以用url表示\n",
    "import requests\n",
    "url = 'http://files.jb51.net/file_images/article/201403/2014031116262410.png'\n",
    "r = requests.get(url)\n",
    "r.status_code\n",
    "path = 'D:/abc.jpg'\n",
    "with open(path, 'wb') as f:\n",
    "    f.write(r.content)\n",
    "f.close()"
   ]
  },
  {
   "cell_type": "code",
   "execution_count": 15,
   "metadata": {
    "collapsed": false
   },
   "outputs": [
    {
     "name": "stdout",
     "output_type": "stream",
     "text": [
      "图片保存成功\n"
     ]
    }
   ],
   "source": [
    "import requests\n",
    "import os\n",
    "url = 'http://files.jb51.net/file_images/article/201403/2014031116262410.png'\n",
    "url = 'http://www.bilibili.com/video/av7869988/'\n",
    "root = 'E:temp//'\n",
    "path = root + ‘ha.flv’\n",
    "try:\n",
    "    if not os.path.exists(root):\n",
    "        os.mkdir(root)\n",
    "    if not os.path.exists(path):\n",
    "        r = requests.get(url)\n",
    "        with open(path, 'wb') as f:\n",
    "            f.write(r.content)\n",
    "            f.close()\n",
    "            print('图片保存成功')\n",
    "    else:\n",
    "        print('文件已存在！')\n",
    "except:\n",
    "        print('获取失败')"
   ]
  },
  {
   "cell_type": "code",
   "execution_count": null,
   "metadata": {
    "collapsed": true
   },
   "outputs": [],
   "source": []
  }
 ],
 "metadata": {
  "anaconda-cloud": {},
  "kernelspec": {
   "display_name": "Python [Root]",
   "language": "python",
   "name": "Python [Root]"
  },
  "language_info": {
   "codemirror_mode": {
    "name": "ipython",
    "version": 3
   },
   "file_extension": ".py",
   "mimetype": "text/x-python",
   "name": "python",
   "nbconvert_exporter": "python",
   "pygments_lexer": "ipython3",
   "version": "3.5.2"
  }
 },
 "nbformat": 4,
 "nbformat_minor": 0
}
