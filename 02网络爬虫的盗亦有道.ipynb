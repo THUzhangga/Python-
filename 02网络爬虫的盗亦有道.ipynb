{
 "cells": [
  {
   "cell_type": "markdown",
   "metadata": {},
   "source": [
    "## 爬虫尺寸\n",
    "* 小规模：Requests，玩\n",
    "* 中规模：爬取一个网站。Scrapy\n",
    "* 大规模：建立全Internet的资源，如搜索引擎Google\n",
    "\n",
    "## 爬虫的骚扰\n",
    "* 为网站带来骚扰\n",
    "* 法律风险\n",
    "* 隐私泄露\n",
    "\n",
    "## 爬虫的限制\n",
    "* 来源审查：判断User-Agent\n",
    "* 发布公告：Robots协议\n",
    "\n",
    "## Robots协议\n",
    "* 网站告诉爬虫可爬取范围。\n",
    "* 形式：网站根目录下txt文件\n",
    "* 案例www.jd.com/robots.txt\n",
    "> User-agent: * \n",
    "Disallow: /?* \n",
    "Disallow: /pop/*.html \n",
    "Disallow: /pinpai/*.html?* \n",
    "User-agent: EtaoSpider \n",
    "Disallow: / \n",
    "User-agent: HuihuiSpider \n",
    "Disallow: / \n",
    "User-agent: GwdangSpider \n",
    "Disallow: / \n",
    "User-agent: WochachaSpider \n",
    "Disallow: /\n",
    "\n",
    "* 说明：?*开头不允许等等，EtaoSpider等不允许\n",
    "\n",
    "## Robots协议的遵守\n",
    "* 自动识别robots.txt，根据内容爬取。\n",
    "* 访问次数少可以不遵守"
   ]
  },
  {
   "cell_type": "code",
   "execution_count": null,
   "metadata": {
    "collapsed": true
   },
   "outputs": [],
   "source": []
  }
 ],
 "metadata": {
  "kernelspec": {
   "display_name": "Python [Root]",
   "language": "python",
   "name": "Python [Root]"
  },
  "language_info": {
   "codemirror_mode": {
    "name": "ipython",
    "version": 3
   },
   "file_extension": ".py",
   "mimetype": "text/x-python",
   "name": "python",
   "nbconvert_exporter": "python",
   "pygments_lexer": "ipython3",
   "version": "3.5.2"
  }
 },
 "nbformat": 4,
 "nbformat_minor": 0
}
