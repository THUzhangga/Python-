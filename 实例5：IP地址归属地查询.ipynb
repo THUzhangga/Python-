{
 "cells": [
  {
   "cell_type": "code",
   "execution_count": 7,
   "metadata": {
    "collapsed": false
   },
   "outputs": [
    {
     "name": "stdout",
     "output_type": "stream",
     "text": [
      "<?xml version=\"1.0\" encoding=\"UTF-8\"?>\r\n",
      "<!DOCTYPE html PUBLIC \"-//WAPFORUM//DTD XHTML Mobile 1.0//EN\" \"http://www.wapforum.org/DTD/xhtml-mobile10.dtd\">\r\n",
      "<html xmlns=\"http://www.w3.org/1999/xhtml\">\r\n",
      "<head>\r\n",
      "<meta http-equiv=\"Content-Type\" content=\"application/xhtml+xml; charset=UTF-8\"/>\r\n",
      "<meta name=\"viewport\" content=\"width=device-width,user-scalable=no\" />\r\n",
      "<link href=\"/apple-touch-icon.png\" rel=\"apple-touch-icon\"  />\r\n",
      "<link href=\"/style/common.css\" rel=\"stylesheet\" type=\"text/css\" />\r\n",
      "<link href=\"/style/ip.css\" rel=\"stylesheet\" type=\"text/css\" />\r\n",
      "<title>IP地址在线查询 m.ip138.com 查询网</title>\r\n",
      "</head>\r\n",
      "<body>\r\n",
      "\r\n",
      "\t<div class=\"wraper\">\r\n",
      "\t\t<div class=\"header\">\r\n",
      "\t\t\t<div class=\"header-box\">\r\n",
      "\t\t\t\t<a href=\"/\" class=\"logo\"><img src=\"/image/logo.png\" width=\"47\" height=\"35\"/>iP138</a>\r\n",
      "\t\t\t\t<span class=\"naver\" id=\"naver\"><span class=\"naver-text\">导航</span><span class=\"naver-icon\"></span></span>\r\n",
      "\t\t\t\t<div class=\"naver-sub\" id=\"naver-sub\">\r\n",
      "\t\t\t\t\t<ul>\r\n",
      "\t\t\t\t\t\t<li><a href=\"/ip.html\">iP查询</a></li>\r\n",
      "\t\t\t\t\t\t<li><a href=\"/mobile.html\">手机号码归属地查询</a></li>\r\n",
      "\t\t\t\t\t\t<li><a href=\"/huilv/\">汇率查询</a></li>\r\n",
      "\t\t\t\t\t\t<li><a href=\"/youbian/\">邮编区号查询</a></li>\r\n",
      "\t\t\t\t\t\t<li><a href=\"/kuaidi/\">快递查询</a></li>\r\n",
      "\t\t\t\t\t\t<li><a href=\"http://qq.ip138.com/tianqi/\">天气预报查询</a></li>\r\n",
      "\t\t\t\t\t\t<li><a href=\"http://qq.ip138.com/shenfenzheng/\">身份证号码查询</a></li>\r\n",
      "\t\t\t\t\t\t<li><a href=\"http://qq.ip138.com/huoche/\">列车时刻表查询</a></li>\r\n",
      "\t\t\t\t\t\t<li><a href=\"http://qq.ip138.com/daishoudian/mobile.htm\">火车票代售点查询</a></li>\r\n",
      "\t\t\t\t\t</ul>\r\n",
      "\t\t\t\t</div>\r\n",
      "\t\t\t</div>\r\n",
      "\t\t</div>\r\n",
      "\t\t<div class=\"container\">\r\n",
      "\t\t\t<div class=\"module\">\r\n",
      "\t\t\t\t<p class=\"form-hd\">IP地址或者域名：</p>\r\n",
      "\t\t\t\t<div class=\"form\">\r\n",
      "\t\t\t\t\t<form action=\"\" method=\"get\">\r\n",
      "\t\t\t\t\t\t<input type=\"text\" name=\"ip\" size=\"30\" class=\"form-text\" value=\"183.172.236.82\" />\r\n",
      "\t\t\t\t\t\t<input type=\"submit\" value=\"查询\" class=\"form-btn\" />\r\n",
      "\t\t\t\t\t</form>\r\n",
      "\t\t\t\t</div>\r\n",
      "\t\t\t\t<div class=\"query-hd\">ip138.com IP查询(搜索IP地址的地理位置)</div>\r\n",
      "\t\t\t\t<h1 class=\"query\">您查询的IP：183.172.236.82</h1><p class=\"result\">本站主数据：北京市海淀区 清华大学 教育网</p><p class=\"result\">参考数据一：北京市 清华大学</p>\r\n",
      "\r\n",
      "\t\t\t</div>\r\n",
      "\t\t</div>\r\n",
      "\r\n",
      "\t\t<div class=\"footer\">\r\n",
      "\t\t\t<a href=\"http://www.miitbeian.gov.cn/\" rel=\"nofollow\" target=\"_blank\">沪ICP备10013467号-1</a>\r\n",
      "\t\t</div>\r\n",
      "\t</div>\r\n",
      "\r\n",
      "\t<script type=\"text/javascript\" src=\"/script/common.js\"></script></body>\r\n",
      "</html>\r\n",
      "\n"
     ]
    }
   ],
   "source": [
    "# 通过ip138网站查询\n",
    "# 构造url\n",
    "import requests\n",
    "url = 'http://m.ip138.com/ip.asp?ip='\n",
    "ip = '183.172.236.82'\n",
    "r = requests.get(url+ip)\n",
    "r.status_code\n",
    "print(r.text)"
   ]
  },
  {
   "cell_type": "code",
   "execution_count": null,
   "metadata": {
    "collapsed": true
   },
   "outputs": [],
   "source": []
  }
 ],
 "metadata": {
  "kernelspec": {
   "display_name": "Python [Root]",
   "language": "python",
   "name": "Python [Root]"
  },
  "language_info": {
   "codemirror_mode": {
    "name": "ipython",
    "version": 3
   },
   "file_extension": ".py",
   "mimetype": "text/x-python",
   "name": "python",
   "nbconvert_exporter": "python",
   "pygments_lexer": "ipython3",
   "version": "3.5.2"
  }
 },
 "nbformat": 4,
 "nbformat_minor": 0
}
